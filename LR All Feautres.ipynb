{
 "cells": [
  {
   "cell_type": "code",
   "execution_count": 53,
   "metadata": {},
   "outputs": [],
   "source": [
    "import numpy as np\n",
    "import seaborn as sns\n",
    "from numpy import sort\n",
    "import matplotlib.pyplot as plt\n",
    "%matplotlib inline\n",
    "import pandas as pd\n",
    "from sklearn.preprocessing import MinMaxScaler\n",
    "from sklearn.model_selection import train_test_split\n",
    "\n",
    "from pandas import DataFrame\n",
    "from sklearn import preprocessing\n",
    "from sklearn.feature_selection import SelectFromModel\n",
    "\n",
    "from sklearn.linear_model import LogisticRegression\n",
    "\n",
    "from sklearn.model_selection import train_test_split\n",
    "\n",
    "from sklearn.model_selection import cross_val_predict\n",
    "from sklearn.model_selection import cross_val_score\n",
    "from sklearn.model_selection import KFold\n",
    "from sklearn.metrics import accuracy_score\n",
    "from sklearn.metrics import confusion_matrix\n",
    "from sklearn import metrics\n",
    "from sklearn.metrics import classification_report\n",
    "\n"
   ]
  },
  {
   "cell_type": "code",
   "execution_count": 60,
   "metadata": {},
   "outputs": [],
   "source": [
    "data = pd.read_csv(\"C:\\\\Users\\Hannah\\Desktop\\Research Project\\data.csv\")\n",
    "data = data.drop([\"Unnamed: 32\", \"id\"],1)\n",
    "#includes all features from columns also floats and normalizes them\n",
    "#X = data.values[:,2:-1].astype('float64')\n",
    "#X = (X - np.mean(X, axis =0)) /  np.std(X, axis = 0)\n",
    "X = np.hstack([np.ones((X.shape[0], 1)),X]) #adds bias column and arrays data into vectors for quicker calculations\n",
    "X = MinMaxScaler().fit_transform(X)\n",
    "Y = data[\"diagnosis\"].map({'M':1,'B':0})\n",
    "Y = np.array(Y)"
   ]
  },
  {
   "cell_type": "code",
   "execution_count": 61,
   "metadata": {},
   "outputs": [
    {
     "name": "stdout",
     "output_type": "stream",
     "text": [
      "(426, 30)\n"
     ]
    }
   ],
   "source": [
    "X_train, X_test, Y_train, Y_test = train_test_split(X, Y, test_size=0.25, random_state=0)\n",
    "print(X_train.shape)"
   ]
  },
  {
   "cell_type": "code",
   "execution_count": 62,
   "metadata": {},
   "outputs": [
    {
     "name": "stdout",
     "output_type": "stream",
     "text": [
      "Scikit-learn LR Accuracy All Features: 95.10 %\n",
      "Scikit-learn LR All Features Report:\n",
      "             precision    recall  f1-score   support\n",
      "\n",
      "     Benign       0.93      1.00      0.96        90\n",
      "  Malignant       1.00      0.87      0.93        53\n",
      "\n",
      "avg / total       0.95      0.95      0.95       143\n",
      "\n"
     ]
    }
   ],
   "source": [
    "\n",
    "logreg = LogisticRegression()\n",
    "logreg.fit(X_train, Y_train)\n",
    "\n",
    "\n",
    "select = SelectFromModel(logreg, threshold=0.9)\n",
    "select.fit(X_train, Y_train)\n",
    "X_train_selected = select.transform(X_train)\n",
    "X_test_selected = select.transform(X_test)\n",
    "\n",
    "print('Scikit-learn LR Accuracy All Features: {:.2f}'.format(logreg.score(X_test, Y_test)*100),  '%')\n",
    "\n",
    "print(\"Scikit-learn LR All Features Report:\")\n",
    "Y_pred = logreg.predict(X_test)\n",
    "target_names = ['Benign', 'Malignant']\n",
    "print(classification_report(Y_test, Y_pred, target_names=target_names))"
   ]
  },
  {
   "cell_type": "code",
   "execution_count": 63,
   "metadata": {},
   "outputs": [],
   "source": [
    "def Sigmoid(z):\n",
    "    return 1/(1 + np.exp(-z))\n",
    "\n",
    "def Hypothesis(theta, X):   \n",
    "    return Sigmoid(X @ theta) #@ symbol is a decorator to do matrix multiplication and part of python 3.5 only "
   ]
  },
  {
   "cell_type": "code",
   "execution_count": 64,
   "metadata": {},
   "outputs": [],
   "source": [
    "def Cost_Function(X,Y,theta,m):\n",
    "    hi = Hypothesis(theta, X)\n",
    "    _y = Y.reshape(-1, 1)\n",
    "    J = 1/float(m) * np.sum(-_y * np.log(hi) - (1-_y) * np.log(1-hi))\n",
    "    return J"
   ]
  },
  {
   "cell_type": "code",
   "execution_count": 65,
   "metadata": {},
   "outputs": [],
   "source": [
    "def Cost_Function_Derivative(X,Y,theta,m,alpha):\n",
    "    hi = Hypothesis(theta,X)\n",
    "    _y = Y.reshape(-1, 1)\n",
    "    J = alpha/float(m) * X.T @ (hi - _y)\n",
    "    return J\n",
    "\n",
    "def Gradient_Descent(X,Y,theta,m,alpha):\n",
    "    new_theta = theta - Cost_Function_Derivative(X,Y,theta,m,alpha)\n",
    "    return new_theta"
   ]
  },
  {
   "cell_type": "code",
   "execution_count": 66,
   "metadata": {},
   "outputs": [
    {
     "name": "stdout",
     "output_type": "stream",
     "text": [
      "LR Accuracy all features:  97.2027972028 %\n",
      "Sckit-learn Accuracy score 97.202797 %\n",
      "Coefficients (thetas):\n",
      "(Largest coefficients to be collected in excel)\n",
      "[[  5.69306754e-03]\n",
      " [  7.60650814e-03]\n",
      " [  4.73130455e+00]\n",
      " [ -3.15530027e+01]\n",
      " [  5.23951004e+00]\n",
      " [ -1.17851009e+01]\n",
      " [  1.95680772e+00]\n",
      " [  2.10819968e+01]\n",
      " [  3.00238170e+01]\n",
      " [ -1.78193220e+00]\n",
      " [ -1.56389864e+01]\n",
      " [  2.20798789e+01]\n",
      " [ -6.83081770e+00]\n",
      " [  1.57871753e+01]\n",
      " [  2.49828233e+01]\n",
      " [ -1.03782952e+01]\n",
      " [ -1.16380975e+01]\n",
      " [ -1.03288226e+01]\n",
      " [ -5.63663294e+00]\n",
      " [ -8.67976366e+00]\n",
      " [ -4.56646536e+00]\n",
      " [ -7.01936500e+00]\n",
      " [  4.11368393e+00]\n",
      " [ -3.51520138e+00]\n",
      " [  2.49687336e+01]\n",
      " [  5.90046151e+00]\n",
      " [  2.25023190e+00]\n",
      " [  2.56916306e+00]\n",
      " [  1.84343857e+00]\n",
      " [  1.00603552e+01]]\n",
      "\n",
      "\n",
      "Plot of LR Coefficients (thetas):\n"
     ]
    },
    {
     "data": {
      "image/png": "[encoded data removed]",
      "text/plain": [
       "<matplotlib.figure.Figure at 0x249b00037b8>"
      ]
     },
     "metadata": {},
     "output_type": "display_data"
    }
   ],
   "source": [
    "def Accuracy(theta):\n",
    "    correct = 0\n",
    "    length = len(X_test)\n",
    "    prediction = (Hypothesis(theta, X_test) > 0.5) #replaced round to use predictions which are correct is ranging between the Y shape below\n",
    "    _y = Y_test.reshape(-1, 1)\n",
    "    correct = prediction == _y\n",
    "    my_accuracy = (np.sum(correct) / length)*100\n",
    "    print ('LR Accuracy all features: ', my_accuracy, \"%\")\n",
    "    print(\"Sckit-learn Accuracy score %f\" % (accuracy_score(Y_test, prediction)*100),\"%\")\n",
    "\n",
    "\n",
    "def Logistic_Regression(X,Y,alpha,theta,num_iters):\n",
    "    m = len(Y)\n",
    "    for x in range(num_iters):\n",
    "        new_theta = Gradient_Descent(X,Y,theta,m,alpha)\n",
    "        theta = new_theta\n",
    "        if x % 100 == 0:\n",
    "            print #('theta: ', theta)    \n",
    "            print #('cost: ', Cost_Function(X,Y,theta,m))\n",
    "    Accuracy(theta)\n",
    "    print(\"Coefficients (thetas):\")\n",
    "    print(\"(Largest coefficients to be collected in excel)\")\n",
    "    theta.sort()\n",
    "    print(theta)\n",
    "    x = np.linspace(-10, 30, 50)\n",
    "    y = -(theta[0] + theta[1]*x)/theta[2]\n",
    "    print(\"\\n\")\n",
    "    print(\"Plot of LR Coefficients (thetas):\")\n",
    "    plt.plot(X, Y)\n",
    "    plt.plot(theta)\n",
    "    plt.show()\n",
    "\n",
    "\n",
    "\n",
    "ep = .012   #sets initial theta to random non zero numbers +/- .012 specifically is arbitrary\n",
    "\n",
    "initial_theta = np.random.rand(X_train.shape[1],1) * 2 * ep - ep\n",
    "alpha = 0.9\n",
    "iterations = 100000\n",
    "Logistic_Regression(X_train,Y_train,alpha,initial_theta,iterations)"
   ]
  },
  {
   "cell_type": "code",
   "execution_count": 67,
   "metadata": {},
   "outputs": [
    {
     "name": "stdout",
     "output_type": "stream",
     "text": [
      "Confusion Matrix: \n",
      " [[88  2]\n",
      " [ 2 51]]\n",
      "\n",
      "\n",
      "LR Report:\n",
      "             precision    recall  f1-score   support\n",
      "\n",
      "     Benign       0.98      0.98      0.98        90\n",
      "  Malignant       0.96      0.96      0.96        53\n",
      "\n",
      "avg / total       0.97      0.97      0.97       143\n",
      "\n",
      "Sckit-learn Accuracy score 97.202797 %\n"
     ]
    },
    {
     "data": {
      "image/png": "[encoded data removed]",
      "text/plain": [
       "<matplotlib.figure.Figure at 0x249b00f0080>"
      ]
     },
     "metadata": {},
     "output_type": "display_data"
    }
   ],
   "source": [
    "def Accuracy(theta):\n",
    "    correct = 0\n",
    "    length = len(X_test)\n",
    "    prediction = (Hypothesis(theta, X_test) > 0.5) #replaced round to use predictions which are correct is ranging between the Y shape below\n",
    "    _y = Y_test.reshape(-1, 1)\n",
    "    correct = prediction == _y\n",
    "    my_accuracy = (np.sum(correct) / length)*100\n",
    "    \n",
    "    #Confusion matrix and F1 scoring\n",
    "    cm= confusion_matrix(Y_test, prediction)\n",
    "    print(\"Confusion Matrix:\", \"\\n\", cm)\n",
    "    sns.heatmap(cm,annot=True,fmt=\"d\")\n",
    "    print('\\n')\n",
    "    print(\"LR Report:\")\n",
    "    target_names = ['Benign', 'Malignant']\n",
    "    print(classification_report(Y_test, prediction, target_names=target_names))\n",
    "    print(\"Sckit-learn Accuracy score %f\" % (accuracy_score(Y_test, prediction)*100),\"%\")\n",
    "\n",
    "\n",
    "def Logistic_Regression(X,Y,alpha,theta,num_iters):\n",
    "    m = len(Y)\n",
    "    for x in range(num_iters):\n",
    "        new_theta = Gradient_Descent(X,Y,theta,m,alpha)\n",
    "        theta = new_theta\n",
    "        if x % 100 == 0:\n",
    "            print #('theta: ', theta)    \n",
    "            print #('cost: ', Cost_Function(X,Y,theta,m))\n",
    "    Accuracy(theta)\n",
    "\n",
    "\n",
    "ep = .012   #sets initial theta to random non zero numbers +/- .012 specifically is arbitrary\n",
    "\n",
    "initial_theta = np.random.rand(X_train.shape[1],1) * 2 * ep - ep\n",
    "alpha = 0.9\n",
    "iterations = 100000\n",
    "Logistic_Regression(X_train,Y_train,alpha,initial_theta,iterations)\n"
   ]
  },
  {
   "cell_type": "code",
   "execution_count": null,
   "metadata": {},
   "outputs": [],
   "source": []
  }
 ],
 "metadata": {
  "kernelspec": {
   "display_name": "Python 3",
   "language": "python",
   "name": "python3"
  },
  "language_info": {
   "codemirror_mode": {
    "name": "ipython",
    "version": 3
   },
   "file_extension": ".py",
   "mimetype": "text/x-python",
   "name": "python",
   "nbconvert_exporter": "python",
   "pygments_lexer": "ipython3",
   "version": "3.6.2"
  }
 },
 "nbformat": 4,
 "nbformat_minor": 2
}
