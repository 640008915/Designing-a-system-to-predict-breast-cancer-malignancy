{
 "cells": [
  {
   "cell_type": "code",
   "execution_count": 1,
   "metadata": {},
   "outputs": [],
   "source": [
    "import numpy as np\n",
    "from numpy import sort\n",
    "import matplotlib.pyplot as plt\n",
    "%matplotlib inline\n",
    "import pandas as pd\n",
    "from sklearn.preprocessing import MinMaxScaler\n",
    "from sklearn.model_selection import train_test_split\n",
    "\n",
    "from pandas import DataFrame\n",
    "from sklearn import preprocessing\n",
    "from sklearn.feature_selection import SelectFromModel\n",
    "\n",
    "from sklearn.linear_model import LogisticRegression\n",
    "from sklearn.neighbors import KNeighborsClassifier\n",
    "from sklearn.ensemble import RandomForestClassifier\n",
    "from sklearn.naive_bayes import GaussianNB\n",
    "from sklearn.svm import SVC\n",
    "from sklearn.neural_network import MLPClassifier\n",
    "\n",
    "from sklearn.model_selection import train_test_split\n",
    "from sklearn.model_selection import cross_val_predict\n",
    "from sklearn.model_selection import cross_val_score\n",
    "from sklearn.model_selection import KFold\n",
    "from sklearn.metrics import accuracy_score\n",
    "from sklearn.metrics import confusion_matrix\n",
    "from sklearn import metrics"
   ]
  },
  {
   "cell_type": "code",
   "execution_count": 2,
   "metadata": {},
   "outputs": [],
   "source": [
    "data = pd.read_csv(\"C:\\\\Users\\Hannah\\Desktop\\Research Project\\data.csv\")\n",
    "data = data.drop([\"Unnamed: 32\", \"id\"],1)\n",
    "#includes all features from columns also floats and normalizes them\n",
    "X = data.values[:,2:-1].astype('float64')\n",
    "X = (X - np.mean(X, axis =0)) /  np.std(X, axis = 0)\n",
    "X = np.hstack([np.ones((X.shape[0], 1)),X]) #adds bias column and arrays data into vectors for quicker calculations\n",
    "X = MinMaxScaler().fit_transform(X)\n",
    "Y = data[\"diagnosis\"].map({'M':1,'B':0})\n",
    "Y = np.array(Y)"
   ]
  },
  {
   "cell_type": "code",
   "execution_count": 3,
   "metadata": {},
   "outputs": [
    {
     "name": "stdout",
     "output_type": "stream",
     "text": [
      "All feature weights:\n",
      "[ 0.          0.76736753  0.88072182  1.08868283 -0.21171369  0.56271732\n",
      "  1.65507951  2.3801738   0.05063709 -1.35163547  1.30820305 -0.37106399\n",
      "  1.02123346  0.89909179 -0.68090788 -0.73428073 -0.49595529 -0.29101703\n",
      " -0.51694224 -0.69255944  1.66881075  1.27819432  1.57163635  1.48066087\n",
      "  0.6106672   0.90128994  1.2486092   2.40210721  0.87914931]\n"
     ]
    },
    {
     "data": {
      "image/png": "[encoded data removed]",
      "text/plain": [
       "<matplotlib.figure.Figure at 0x15feec50a58>"
      ]
     },
     "metadata": {},
     "output_type": "display_data"
    }
   ],
   "source": [
    "X_train, X_test, Y_train, Y_test = train_test_split(X, Y, test_size=0.25, random_state=0)\n",
    "svm = SVC()\n",
    "rfc =RandomForestClassifier()\n",
    "knn = KNeighborsClassifier()\n",
    "nb = GaussianNB()\n",
    "ann = MLPClassifier()\n",
    "logreg = LogisticRegression()\n",
    "logreg.fit(X_train, Y_train)\n",
    "print('All feature weights:')\n",
    "coef=logreg.coef_[0]\n",
    "print(coef)\n",
    "plt.plot(X, Y)\n",
    "plt.plot(coef)\n",
    "plt.show()"
   ]
  },
  {
   "cell_type": "code",
   "execution_count": 6,
   "metadata": {},
   "outputs": [
    {
     "name": "stdout",
     "output_type": "stream",
     "text": [
      "Scikit-learn Feature Selection:\n",
      "X_train shape is: (426, 29)\n",
      "X_train feature selected shape is: (426, 13)\n",
      "\n",
      " These selected features are:\n",
      "[False False False  True False False  True  True False  True  True False\n",
      "  True False False False False False False False  True  True  True  True\n",
      " False  True  True  True False]\n",
      "[ 3  6  7  9 10 12 20 21 22 23 25 26 27]\n",
      "Scitkit-learn Features selected:\n",
      "texture_mean, smoothness_mean, compactness_mean, symmetry_mean, radius_se, symmetry_se\n",
      "fractal_dimension_se, radius_worst, texture_worst, area_worst, smoothness_worst, compactness_worst\n",
      "\n",
      "\n",
      "Accuracy with all features:\n",
      "The scikit-learn accuracy of SVM: 95.10 %\n",
      "The scikit-learn accuracy of RFC: 95.10 %\n",
      "The scikit-learn score of NB: 91.61 %\n",
      "The scikit-learn accuracy of KNN: 96.50 %\n",
      "The scikit-learn accuracy of MLP: 97.20 %\n",
      "The scikit-learn accuracy of LR: 95.10 %\n",
      "\n",
      "\n",
      "Accuracy with feature selection:\n",
      "The scikit-learn accuracy of SVM: 95.80 %\n",
      "The scikit-learn accuracy of RFC: 94.41 %\n",
      "The scikit-learn accuracy of NB: 92.31 %\n",
      "The scikit-learn accuracy of KNN: 96.50 %\n",
      "The scikit-learn accuracy of MLP: 94.41 %\n",
      "The scikit-learn accuracy of LR: 96.50 %\n"
     ]
    }
   ],
   "source": [
    "select = SelectFromModel(logreg, threshold=0.9)\n",
    "select.fit(X_train, Y_train)\n",
    "X_train_selected = select.transform(X_train)\n",
    "X_test_selected = select.transform(X_test)\n",
    "print('Scikit-learn Feature Selection:')\n",
    "print('X_train shape is: {}'.format(X_train.shape))\n",
    "print('X_train feature selected shape is: {}'.format(X_train_selected.shape))\n",
    "print(\"\\n\", \"These selected features are:\")\n",
    "mask = select.get_support()\n",
    "print(mask)\n",
    "idxs_selected = select.get_support(indices=True)\n",
    "# Create new dataframe with only desired columns, or overwrite existing\n",
    "print(idxs_selected)\n",
    "\n",
    "print(\"Scitkit-learn Features selected:\")\n",
    "print('texture_mean, smoothness_mean, compactness_mean, symmetry_mean, radius_se, symmetry_se')\n",
    "print('fractal_dimension_se, radius_worst, texture_worst, area_worst, smoothness_worst, compactness_worst')\n",
    "print(\"\\n\")\n",
    "\n",
    "print('Accuracy with all features:')\n",
    "svm.fit(X_train, Y_train)\n",
    "print('The scikit-learn accuracy of SVM: {:.2f}'.format(svm.score(X_test, Y_test)*100),  '%')\n",
    "\n",
    "rfc.fit(X_train, Y_train)\n",
    "print('The scikit-learn accuracy of RFC: {:.2f}'.format(rfc.score(X_test, Y_test)*100),  '%')\n",
    "\n",
    "nb.fit(X_train, Y_train)\n",
    "print('The scikit-learn score of NB: {:.2f}'.format(nb.score(X_test, Y_test)*100),  '%')\n",
    "\n",
    "knn.fit(X_train, Y_train)\n",
    "print('The scikit-learn accuracy of KNN: {:.2f}'.format(knn.score(X_test, Y_test)*100),  '%')\n",
    "\n",
    "ann.fit(X_train, Y_train)\n",
    "print('The scikit-learn accuracy of MLP: {:.2f}'.format(ann.score(X_test, Y_test)*100),  '%')\n",
    "\n",
    "logreg.fit(X_train, Y_train)\n",
    "print('The scikit-learn accuracy of LR: {:.2f}'.format(logreg.score(X_test, Y_test)*100),  '%')\n",
    "\n",
    "print('\\n')\n",
    "print('Accuracy with feature selection:')\n",
    "\n",
    "select2 =SelectFromModel(svm, threshold=0.5)\n",
    "select2.fit(X_train, Y_train)\n",
    "X_train_selected2 = select.transform(X_train)\n",
    "X_test_selected2 = select.transform(X_test)\n",
    "svm.fit(X_train_selected2, Y_train)\n",
    "print('The scikit-learn accuracy of SVM: {:.2f}'.format(svm.score(X_test_selected2, Y_test)*100),  '%')\n",
    "\n",
    "select3 =SelectFromModel(rfc, threshold=0.9)\n",
    "select3.fit(X_train, Y_train)\n",
    "X_train_selected3 = select.transform(X_train)\n",
    "X_test_selected3 = select.transform(X_test)\n",
    "rfc.fit(X_train_selected3, Y_train)\n",
    "print('The scikit-learn accuracy of RFC: {:.2f}'.format(rfc.score(X_test_selected3, Y_test)*100),  '%')\n",
    "\n",
    "select4 =SelectFromModel(nb, threshold=0.9)\n",
    "select4.fit(X_train, Y_train)\n",
    "X_train_selected4 = select.transform(X_train)\n",
    "X_test_selected4 = select.transform(X_test)\n",
    "nb.fit(X_train_selected4, Y_train)\n",
    "print('The scikit-learn accuracy of NB: {:.2f}'.format(nb.score(X_test_selected4, Y_test)*100),  '%')\n",
    "\n",
    "select5 =SelectFromModel(knn, threshold=0.9)\n",
    "select5.fit(X_train, Y_train)\n",
    "X_train_selected5 = select.transform(X_train)\n",
    "X_test_selected5 = select.transform(X_test)\n",
    "knn.fit(X_train_selected5, Y_train)\n",
    "print('The scikit-learn accuracy of KNN: {:.2f}'.format(knn.score(X_test_selected5, Y_test)*100),  '%')\n",
    "\n",
    "select6 =SelectFromModel(ann, threshold=0.9)\n",
    "select6.fit(X_train, Y_train)\n",
    "X_train_selected6 = select.transform(X_train)\n",
    "X_test_selected6 = select.transform(X_test)\n",
    "ann.fit(X_train_selected6, Y_train)\n",
    "print('The scikit-learn accuracy of MLP: {:.2f}'.format(ann.score(X_test_selected6, Y_test)*100),  '%')\n",
    "\n",
    "select = SelectFromModel(logreg, threshold=0.9)\n",
    "select.fit(X_train, Y_train)\n",
    "X_train_selected = select.transform(X_train)\n",
    "X_test_selected = select.transform(X_test)\n",
    "logreg.fit(X_train_selected, Y_train)\n",
    "print('The scikit-learn accuracy of LR: {:.2f}'.format(logreg.score(X_test_selected, Y_test)*100),  '%')\n"
   ]
  },
  {
   "cell_type": "code",
   "execution_count": 14,
   "metadata": {},
   "outputs": [
    {
     "name": "stdout",
     "output_type": "stream",
     "text": [
      "Scitkit-learn Features selected:\n",
      "texture_mean, smoothness_mean, compactness_mean, symmetry_mean, radius_se, symmetry_se\n",
      "fractal_dimension_se, radius_worst, texture_worst, area_worst, smoothness_worst, compactness_worst\n",
      "(13 features selected) \n",
      "\n",
      "Feature Selection by Coefficient Ranking:\n",
      "Top thirteen weighted: [-1.61643195  1.32270534  2.45939045  1.2749157   1.16879421  0.89211581\n",
      "  2.02866296  1.64053068  1.89740965  1.70519773  1.13746169  1.20669614\n",
      "  2.75497896]\n",
      "Top thirteen named: Index(['perimeter_mean', 'radius_mean', 'texture_mean', 'diagnosis',\n",
      "       'area_mean', 'smoothness_mean', 'compactness_mean', 'concavity_mean',\n",
      "       'concave points_mean', 'symmetry_mean', 'fractal_dimension_mean',\n",
      "       'radius_se', 'texture_se'],\n",
      "      dtype='object')\n"
     ]
    }
   ],
   "source": [
    "print(\"Scitkit-learn Features selected:\")\n",
    "print('texture_mean, smoothness_mean, compactness_mean, symmetry_mean, radius_se, symmetry_se')\n",
    "print('fractal_dimension_se, radius_worst, texture_worst, area_worst, smoothness_worst, compactness_worst')\n",
    "print(\"(13 features selected)\", \"\\n\")\n",
    "print('Feature Selection by Coefficient Ranking:')\n",
    "coefs=logreg.coef_[0]\n",
    "top_thirteen = np.argpartition(coefs, -13)[-13:]\n",
    "print('Top thirteen weighted:',coefs[top_thirteen])\n",
    "print('Top thirteen named:', data.columns[top_thirteen])"
   ]
  },
  {
   "cell_type": "code",
   "execution_count": null,
   "metadata": {},
   "outputs": [],
   "source": []
  }
 ],
 "metadata": {
  "kernelspec": {
   "display_name": "Python 3",
   "language": "python",
   "name": "python3"
  },
  "language_info": {
   "codemirror_mode": {
    "name": "ipython",
    "version": 3
   },
   "file_extension": ".py",
   "mimetype": "text/x-python",
   "name": "python",
   "nbconvert_exporter": "python",
   "pygments_lexer": "ipython3",
   "version": "3.6.2"
  }
 },
 "nbformat": 4,
 "nbformat_minor": 2
}
