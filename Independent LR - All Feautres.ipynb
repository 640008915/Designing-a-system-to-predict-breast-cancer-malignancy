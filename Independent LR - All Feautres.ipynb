{
 "cells": [
  {
   "cell_type": "code",
   "execution_count": 11,
   "metadata": {},
   "outputs": [],
   "source": [
    "import numpy as np\n",
    "from numpy import sort\n",
    "import matplotlib.pyplot as plt\n",
    "%matplotlib inline\n",
    "import pandas as pd\n",
    "from sklearn.preprocessing import MinMaxScaler\n",
    "from sklearn.model_selection import train_test_split\n",
    "\n",
    "from pandas import DataFrame\n",
    "from sklearn import preprocessing\n",
    "from sklearn.feature_selection import SelectFromModel\n",
    "\n",
    "from sklearn.linear_model import LogisticRegression\n",
    "\n",
    "from sklearn.model_selection import train_test_split\n",
    "from sklearn.model_selection import cross_val_predict\n",
    "from sklearn.model_selection import cross_val_score\n",
    "from sklearn.model_selection import KFold\n",
    "from sklearn.metrics import accuracy_score\n",
    "from sklearn.metrics import confusion_matrix\n",
    "from sklearn import metrics\n"
   ]
  },
  {
   "cell_type": "code",
   "execution_count": 12,
   "metadata": {},
   "outputs": [],
   "source": [
    "data = pd.read_csv(\"C:\\\\Users\\Hannah\\Desktop\\Research Project\\data.csv\")\n",
    "data = data.drop([\"Unnamed: 32\", \"id\"],1)\n",
    "#includes all features from columns also floats and normalizes them\n",
    "X = data.values[:,2:-1].astype('float64')\n",
    "X = (X - np.mean(X, axis =0)) /  np.std(X, axis = 0)\n",
    "X = np.hstack([np.ones((X.shape[0], 1)),X]) #adds bias column and arrays data into vectors for quicker calculations\n",
    "X = MinMaxScaler().fit_transform(X)\n",
    "Y = data[\"diagnosis\"].map({'M':1,'B':0})\n",
    "Y = np.array(Y)"
   ]
  },
  {
   "cell_type": "code",
   "execution_count": 13,
   "metadata": {},
   "outputs": [],
   "source": [
    "X_train, X_test, Y_train, Y_test = train_test_split(X, Y, test_size=0.25, random_state=0)"
   ]
  },
  {
   "cell_type": "code",
   "execution_count": 19,
   "metadata": {},
   "outputs": [
    {
     "name": "stdout",
     "output_type": "stream",
     "text": [
      "Scikit-learn LR accuracy: 95.10 %\n"
     ]
    }
   ],
   "source": [
    "select = SelectFromModel(logreg, threshold=0.9)\n",
    "select.fit(X_train, Y_train)\n",
    "X_train_selected = select.transform(X_train)\n",
    "X_test_selected = select.transform(X_test)\n",
    "\n",
    "\n",
    "logreg.fit(X_train, Y_train)\n",
    "print('Scikit-learn LR accuracy: {:.2f}'.format(logreg.score(X_test, Y_test)*100),  '%')"
   ]
  },
  {
   "cell_type": "code",
   "execution_count": 15,
   "metadata": {},
   "outputs": [],
   "source": [
    "def Sigmoid(z):\n",
    "    return 1/(1 + np.exp(-z))\n",
    "\n",
    "def Hypothesis(theta, X):   \n",
    "    return Sigmoid(X @ theta) #@ symbol is a decorator to do matrix multiplication and part of python 3.5 only "
   ]
  },
  {
   "cell_type": "code",
   "execution_count": 16,
   "metadata": {},
   "outputs": [],
   "source": [
    "def Cost_Function(X,Y,theta,m):\n",
    "    hi = Hypothesis(theta, X)\n",
    "    _y = Y.reshape(-1, 1)\n",
    "    J = 1/float(m) * np.sum(-_y * np.log(hi) - (1-_y) * np.log(1-hi))\n",
    "    return J"
   ]
  },
  {
   "cell_type": "code",
   "execution_count": 17,
   "metadata": {},
   "outputs": [],
   "source": [
    "def Cost_Function_Derivative(X,Y,theta,m,alpha):\n",
    "    hi = Hypothesis(theta,X)\n",
    "    _y = Y.reshape(-1, 1)\n",
    "    J = alpha/float(m) * X.T @ (hi - _y)\n",
    "    return J\n",
    "\n",
    "def Gradient_Descent(X,Y,theta,m,alpha):\n",
    "    new_theta = theta - Cost_Function_Derivative(X,Y,theta,m,alpha)\n",
    "    return new_theta"
   ]
  },
  {
   "cell_type": "code",
   "execution_count": 18,
   "metadata": {},
   "outputs": [
    {
     "name": "stdout",
     "output_type": "stream",
     "text": [
      "LR Accuracy all features:  96.5034965035 %\n",
      "Coefficients (thetas):\n",
      "[[  3.90254149e-03]\n",
      " [  7.71158112e-01]\n",
      " [ -9.87884473e+00]\n",
      " [ -1.55378469e+00]\n",
      " [ -6.51668022e+00]\n",
      " [  2.55966968e+00]\n",
      " [  1.01188427e+01]\n",
      " [  1.42695143e+01]\n",
      " [ -2.30317740e+00]\n",
      " [ -8.86971805e+00]\n",
      " [  9.95796139e+00]\n",
      " [ -2.22639126e+00]\n",
      " [  7.34931879e+00]\n",
      " [  6.79316712e+00]\n",
      " [ -3.97976653e+00]\n",
      " [ -5.62407272e+00]\n",
      " [ -4.87312132e+00]\n",
      " [ -5.75198164e+00]\n",
      " [ -2.12502788e+00]\n",
      " [ -2.71723567e+00]\n",
      " [ -1.37418522e+00]\n",
      " [  2.47792480e+00]\n",
      " [ -1.10452103e+00]\n",
      " [  4.63149538e+00]\n",
      " [  9.97325842e-01]\n",
      " [  1.98121502e+00]\n",
      " [  1.74516705e+00]\n",
      " [  4.41318436e+00]\n",
      " [  3.30105099e+00]]\n",
      "\n",
      "\n",
      "Plot of LR Coefficients (thetas):\n"
     ]
    },
    {
     "data": {
      "image/png": "[encoded data removed]",
      "text/plain": [
       "<matplotlib.figure.Figure at 0x196f2921ef0>"
      ]
     },
     "metadata": {},
     "output_type": "display_data"
    }
   ],
   "source": [
    "def Accuracy(theta):\n",
    "    correct = 0\n",
    "    length = len(X_test)\n",
    "    prediction = (Hypothesis(theta, X_test) > 0.5) #replaced round to use predictions which are correct is ranging between the Y shape below\n",
    "    _y = Y_test.reshape(-1, 1)\n",
    "    correct = prediction == _y\n",
    "    my_accuracy = (np.sum(correct) / length)*100\n",
    "    print ('LR Accuracy all features: ', my_accuracy, \"%\")\n",
    "\n",
    "def Logistic_Regression(X,Y,alpha,theta,num_iters):\n",
    "    m = len(Y)\n",
    "    for x in range(num_iters):\n",
    "        new_theta = Gradient_Descent(X,Y,theta,m,alpha)\n",
    "        theta = new_theta\n",
    "        if x % 100 == 0:\n",
    "            print #('theta: ', theta)    \n",
    "            print #('cost: ', Cost_Function(X,Y,theta,m))\n",
    "    Accuracy(theta)\n",
    "    print(\"Coefficients (thetas):\")\n",
    "    theta.sort()\n",
    "    print(theta)\n",
    "    x = np.linspace(-10, 30, 50)\n",
    "    y = -(theta[0] + theta[1]*x)/theta[2]\n",
    "    print(\"\\n\")\n",
    "    print(\"Plot of LR Coefficients (thetas):\")\n",
    "    plt.plot(X, Y)\n",
    "    plt.plot(theta)\n",
    "    plt.show()\n",
    "\n",
    "\n",
    "\n",
    "ep = .012   #sets initial theta to random non zero numbers +/- .012 specifically is arbitrary\n",
    "\n",
    "initial_theta = np.random.rand(X_train.shape[1],1) * 2 * ep - ep\n",
    "alpha = 0.5\n",
    "iterations = 10000\n",
    "Logistic_Regression(X_train,Y_train,alpha,initial_theta,iterations)"
   ]
  }
 ],
 "metadata": {
  "kernelspec": {
   "display_name": "Python 3",
   "language": "python",
   "name": "python3"
  },
  "language_info": {
   "codemirror_mode": {
    "name": "ipython",
    "version": 3
   },
   "file_extension": ".py",
   "mimetype": "text/x-python",
   "name": "python",
   "nbconvert_exporter": "python",
   "pygments_lexer": "ipython3",
   "version": "3.6.2"
  }
 },
 "nbformat": 4,
 "nbformat_minor": 2
}
