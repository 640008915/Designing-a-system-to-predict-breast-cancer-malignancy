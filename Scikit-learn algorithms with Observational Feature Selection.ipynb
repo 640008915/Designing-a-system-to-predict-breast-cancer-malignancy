{
 "cells": [
  {
   "cell_type": "code",
   "execution_count": 1,
   "metadata": {},
   "outputs": [],
   "source": [
    "import numpy as np\n",
    "from numpy import sort\n",
    "import matplotlib.pyplot as plt\n",
    "%matplotlib inline\n",
    "import pandas as pd\n",
    "from sklearn.preprocessing import MinMaxScaler\n",
    "from sklearn.model_selection import train_test_split\n",
    "\n",
    "from pandas import DataFrame\n",
    "from sklearn import preprocessing\n",
    "from sklearn.feature_selection import SelectFromModel\n",
    "\n",
    "from sklearn.linear_model import LogisticRegression\n",
    "from sklearn.neighbors import KNeighborsClassifier\n",
    "from sklearn.ensemble import RandomForestClassifier\n",
    "from sklearn.naive_bayes import GaussianNB\n",
    "from sklearn.svm import SVC\n",
    "from sklearn.neural_network import MLPClassifier\n",
    "\n",
    "from sklearn.model_selection import train_test_split\n",
    "from sklearn.model_selection import cross_val_predict\n",
    "from sklearn.model_selection import cross_val_score\n",
    "from sklearn.model_selection import KFold\n",
    "from sklearn.metrics import accuracy_score\n",
    "from sklearn.metrics import confusion_matrix\n",
    "from sklearn import metrics"
   ]
  },
  {
   "cell_type": "code",
   "execution_count": 2,
   "metadata": {},
   "outputs": [],
   "source": [
    "data = pd.read_csv(\"C:\\\\Users\\Hannah\\Desktop\\Research Project\\data.csv\")\n",
    "data = data.drop([\"Unnamed: 32\", \"id\"],1)\n",
    "#includes all features from columns also floats and normalizes them\n",
    "X = data.values[:,2:-1].astype('float64')\n",
    "X = (X - np.mean(X, axis =0)) /  np.std(X, axis = 0)\n",
    "X = np.hstack([np.ones((X.shape[0], 1)),X]) #adds bias column and arrays data into vectors for quicker calculations\n",
    "X = MinMaxScaler().fit_transform(X)\n",
    "Y = data[\"diagnosis\"].map({'M':1,'B':0})\n",
    "Y = np.array(Y)"
   ]
  },
  {
   "cell_type": "code",
   "execution_count": 3,
   "metadata": {},
   "outputs": [],
   "source": [
    "selected_features = data[['radius_mean', 'concavity_mean', 'concave points_mean', 'radius_se', 'radius_worst' , 'smoothness_worst', 'compactness_worst', 'concavity_worst', 'concave points_worst']]\n",
    "X_train, X_test, Y_train, Y_test = train_test_split(selected_features, Y, test_size=0.25, random_state=0)\n",
    "svm = SVC()\n",
    "rfc =RandomForestClassifier()\n",
    "knn = KNeighborsClassifier()\n",
    "nb = GaussianNB()\n",
    "ann = MLPClassifier()\n",
    "logreg = LogisticRegression()"
   ]
  },
  {
   "cell_type": "code",
   "execution_count": 4,
   "metadata": {},
   "outputs": [
    {
     "name": "stdout",
     "output_type": "stream",
     "text": [
      "Accuracy with features selected from data visualisation:\n",
      "The scikit-learn accuracy of SVM: 94.41 %\n",
      "The scikit-learn accuracy of RFC: 95.10 %\n",
      "The scikit-learn score of NB: 91.61 %\n",
      "The scikit-learn accuracy of KNN: 94.41 %\n",
      "The scikit-learn accuracy of MLP: 90.91 %\n",
      "The scikit-learn accuracy of LR: 92.31 %\n"
     ]
    }
   ],
   "source": [
    "print('Accuracy with features selected from data visualisation:')\n",
    "svm.fit(X_train, Y_train)\n",
    "print('The scikit-learn accuracy of SVM: {:.2f}'.format(svm.score(X_test, Y_test)*100),  '%')\n",
    "\n",
    "rfc.fit(X_train, Y_train)\n",
    "print('The scikit-learn accuracy of RFC: {:.2f}'.format(rfc.score(X_test, Y_test)*100),  '%')\n",
    "\n",
    "nb.fit(X_train, Y_train)\n",
    "print('The scikit-learn score of NB: {:.2f}'.format(nb.score(X_test, Y_test)*100),  '%')\n",
    "\n",
    "knn.fit(X_train, Y_train)\n",
    "print('The scikit-learn accuracy of KNN: {:.2f}'.format(knn.score(X_test, Y_test)*100),  '%')\n",
    "\n",
    "ann.fit(X_train, Y_train)\n",
    "print('The scikit-learn accuracy of MLP: {:.2f}'.format(ann.score(X_test, Y_test)*100),  '%')\n",
    "\n",
    "logreg.fit(X_train, Y_train)\n",
    "print('The scikit-learn accuracy of LR: {:.2f}'.format(logreg.score(X_test, Y_test)*100),  '%')"
   ]
  }
 ],
 "metadata": {
  "kernelspec": {
   "display_name": "Python 3",
   "language": "python",
   "name": "python3"
  },
  "language_info": {
   "codemirror_mode": {
    "name": "ipython",
    "version": 3
   },
   "file_extension": ".py",
   "mimetype": "text/x-python",
   "name": "python",
   "nbconvert_exporter": "python",
   "pygments_lexer": "ipython3",
   "version": "3.6.2"
  }
 },
 "nbformat": 4,
 "nbformat_minor": 2
}
