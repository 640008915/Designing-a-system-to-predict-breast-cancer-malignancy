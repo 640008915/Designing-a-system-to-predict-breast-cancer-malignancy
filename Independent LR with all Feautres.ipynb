{
 "cells": [
  {
   "cell_type": "code",
   "execution_count": 1,
   "metadata": {},
   "outputs": [],
   "source": [
    "import numpy as np\n",
    "from numpy import sort\n",
    "import matplotlib.pyplot as plt\n",
    "%matplotlib inline\n",
    "import pandas as pd\n",
    "from sklearn.preprocessing import MinMaxScaler\n",
    "from sklearn.model_selection import train_test_split\n",
    "\n",
    "from pandas import DataFrame\n",
    "from sklearn import preprocessing\n",
    "from sklearn.feature_selection import SelectFromModel\n",
    "\n",
    "from sklearn.linear_model import LogisticRegression\n",
    "\n",
    "from sklearn.model_selection import train_test_split\n",
    "from sklearn.model_selection import cross_val_predict\n",
    "from sklearn.model_selection import cross_val_score\n",
    "from sklearn.model_selection import KFold\n",
    "from sklearn.metrics import accuracy_score\n",
    "from sklearn.metrics import confusion_matrix\n",
    "from sklearn import metrics\n"
   ]
  },
  {
   "cell_type": "code",
   "execution_count": 2,
   "metadata": {},
   "outputs": [],
   "source": [
    "data = pd.read_csv(\"C:\\\\Users\\Hannah\\Desktop\\Research Project\\data.csv\")\n",
    "data = data.drop([\"Unnamed: 32\", \"id\"],1)\n",
    "#includes all features from columns also floats and normalizes them\n",
    "X = data.values[:,2:-1].astype('float64')\n",
    "X = (X - np.mean(X, axis =0)) /  np.std(X, axis = 0)\n",
    "X = np.hstack([np.ones((X.shape[0], 1)),X]) #adds bias column and arrays data into vectors for quicker calculations\n",
    "X = MinMaxScaler().fit_transform(X)\n",
    "Y = data[\"diagnosis\"].map({'M':1,'B':0})\n",
    "Y = np.array(Y)"
   ]
  },
  {
   "cell_type": "code",
   "execution_count": 4,
   "metadata": {},
   "outputs": [
    {
     "data": {
      "text/plain": [
       "LogisticRegression(C=1.0, class_weight=None, dual=False, fit_intercept=True,\n",
       "          intercept_scaling=1, max_iter=100, multi_class='ovr', n_jobs=1,\n",
       "          penalty='l2', random_state=None, solver='liblinear', tol=0.0001,\n",
       "          verbose=0, warm_start=False)"
      ]
     },
     "execution_count": 4,
     "metadata": {},
     "output_type": "execute_result"
    }
   ],
   "source": [
    "X_train, X_test, Y_train, Y_test = train_test_split(X, Y, test_size=0.25, random_state=0)\n",
    "\n",
    "logreg = LogisticRegression()\n",
    "logreg.fit(X_train, Y_train)"
   ]
  },
  {
   "cell_type": "code",
   "execution_count": 6,
   "metadata": {},
   "outputs": [
    {
     "name": "stdout",
     "output_type": "stream",
     "text": [
      "Scikit-learn accuracy of LR: 95.10 %\n"
     ]
    }
   ],
   "source": [
    "select = SelectFromModel(logreg, threshold=0.9)\n",
    "select.fit(X_train, Y_train)\n",
    "X_train_selected = select.transform(X_train)\n",
    "X_test_selected = select.transform(X_test)\n",
    "\n",
    "\n",
    "logreg.fit(X_train, Y_train)\n",
    "print('Scikit-learn accuracy of LR: {:.2f}'.format(logreg.score(X_test, Y_test)*100),  '%')"
   ]
  },
  {
   "cell_type": "code",
   "execution_count": 8,
   "metadata": {},
   "outputs": [],
   "source": [
    "def Sigmoid(z):\n",
    "    return 1/(1 + np.exp(-z))\n",
    "\n",
    "def Hypothesis(theta, X):   \n",
    "    return Sigmoid(X @ theta)  #@ symbol is a decorator to do matrix multiplication and part of python 3.5 only "
   ]
  },
  {
   "cell_type": "code",
   "execution_count": 9,
   "metadata": {},
   "outputs": [],
   "source": [
    "def Cost_Function(X,Y,theta,m):\n",
    "    hi = Hypothesis(theta, X)\n",
    "    _y = Y.reshape(-1, 1)\n",
    "    J = 1/float(m) * np.sum(-_y * np.log(hi) - (1-_y) * np.log(1-hi))\n",
    "    return J"
   ]
  },
  {
   "cell_type": "code",
   "execution_count": 10,
   "metadata": {},
   "outputs": [],
   "source": [
    "def Cost_Function_Derivative(X,Y,theta,m,alpha):\n",
    "    hi = Hypothesis(theta,X)\n",
    "    _y = Y.reshape(-1, 1)\n",
    "    J = alpha/float(m) * X.T @ (hi - _y)\n",
    "    return J\n",
    "\n",
    "def Gradient_Descent(X,Y,theta,m,alpha):\n",
    "    new_theta = theta - Cost_Function_Derivative(X,Y,theta,m,alpha)\n",
    "    return new_theta"
   ]
  },
  {
   "cell_type": "code",
   "execution_count": 15,
   "metadata": {},
   "outputs": [
    {
     "name": "stdout",
     "output_type": "stream",
     "text": [
      "LR Accuracy all features:  96.5034965035 %\n",
      "[[ -1.75029409e-03]\n",
      " [  7.65809048e-01]\n",
      " [ -9.87196010e+00]\n",
      " [ -1.56924922e+00]\n",
      " [ -6.51880359e+00]\n",
      " [  2.55963671e+00]\n",
      " [  1.01215670e+01]\n",
      " [  1.42676874e+01]\n",
      " [ -2.30376374e+00]\n",
      " [ -8.86977513e+00]\n",
      " [  9.96115650e+00]\n",
      " [ -2.22505529e+00]\n",
      " [  7.34063936e+00]\n",
      " [  6.80647725e+00]\n",
      " [ -3.97373539e+00]\n",
      " [ -5.62618246e+00]\n",
      " [ -4.86965002e+00]\n",
      " [ -5.75183461e+00]\n",
      " [ -2.13026049e+00]\n",
      " [ -2.71154050e+00]\n",
      " [ -1.36605552e+00]\n",
      " [  2.48087236e+00]\n",
      " [ -1.11072685e+00]\n",
      " [  4.63687842e+00]\n",
      " [  9.95556477e-01]\n",
      " [  1.98173579e+00]\n",
      " [  1.74079050e+00]\n",
      " [  4.41410322e+00]\n",
      " [  3.30575948e+00]]\n",
      "\n",
      "\n",
      "Plot of LR Coefficients:\n"
     ]
    },
    {
     "data": {
      "image/png": "[encoded data removed]",
      "text/plain": [
       "<matplotlib.figure.Figure at 0x1d4e423d6a0>"
      ]
     },
     "metadata": {},
     "output_type": "display_data"
    }
   ],
   "source": [
    "def Accuracy(theta):\n",
    "    correct = 0\n",
    "    length = len(X_test)\n",
    "    prediction = (Hypothesis(theta, X_test) > 0.5) #replaced round to use predictions which are correct is ranging between the Y shape below\n",
    "    _y = Y_test.reshape(-1, 1)\n",
    "    correct = prediction == _y\n",
    "    my_accuracy = (np.sum(correct) / length)*100\n",
    "    print ('LR Accuracy all features: ', my_accuracy, \"%\")\n",
    "\n",
    "def Logistic_Regression(X,Y,alpha,theta,num_iters):\n",
    "    m = len(Y)\n",
    "    for x in range(num_iters):\n",
    "        new_theta = Gradient_Descent(X,Y,theta,m,alpha)\n",
    "        theta = new_theta\n",
    "        if x % 100 == 0:\n",
    "            print #('theta: ', theta)    \n",
    "            print #('cost: ', Cost_Function(X,Y,theta,m))\n",
    "    Accuracy(theta)\n",
    "    theta.sort()\n",
    "    print(theta)\n",
    "    x = np.linspace(-10, 30, 50)\n",
    "    y = -(theta[0] + theta[1]*x)/theta[2]\n",
    "    print(\"\\n\")\n",
    "    print(\"Plot of LR Coefficients:\")\n",
    "    plt.plot(X, Y)\n",
    "    plt.plot(theta)\n",
    "    plt.show()\n",
    "\n",
    "\n",
    "\n",
    "ep = .012   #sets initial theta to random non zero numbers +/- .012 specifically is arbitrary\n",
    "\n",
    "initial_theta = np.random.rand(X_train.shape[1],1) * 2 * ep - ep\n",
    "alpha = 0.5\n",
    "iterations = 10000\n",
    "Logistic_Regression(X_train,Y_train,alpha,initial_theta,iterations)"
   ]
  },
  {
   "cell_type": "code",
   "execution_count": null,
   "metadata": {},
   "outputs": [],
   "source": []
  }
 ],
 "metadata": {
  "kernelspec": {
   "display_name": "Python 3",
   "language": "python",
   "name": "python3"
  },
  "language_info": {
   "codemirror_mode": {
    "name": "ipython",
    "version": 3
   },
   "file_extension": ".py",
   "mimetype": "text/x-python",
   "name": "python",
   "nbconvert_exporter": "python",
   "pygments_lexer": "ipython3",
   "version": "3.6.2"
  }
 },
 "nbformat": 4,
 "nbformat_minor": 2
}
