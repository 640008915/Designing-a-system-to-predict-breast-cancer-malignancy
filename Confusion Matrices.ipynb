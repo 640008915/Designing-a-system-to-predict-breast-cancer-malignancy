{
 "cells": [
  {
   "cell_type": "code",
   "execution_count": 1,
   "metadata": {},
   "outputs": [],
   "source": [
    "import numpy as np\n",
    "from numpy import sort\n",
    "import matplotlib.pyplot as plt\n",
    "%matplotlib inline\n",
    "import matplotlib as mpl\n",
    "import pandas as pd\n",
    "import seaborn as sns\n",
    "from sklearn.preprocessing import MinMaxScaler\n",
    "from sklearn.model_selection import train_test_split\n",
    "\n",
    "from pandas import DataFrame\n",
    "from sklearn import preprocessing\n",
    "from sklearn.linear_model import LogisticRegression\n",
    "from sklearn.neighbors import KNeighborsClassifier\n",
    "from sklearn.ensemble import RandomForestClassifier\n",
    "from sklearn.naive_bayes import GaussianNB\n",
    "from sklearn.svm import SVC\n",
    "from sklearn.neural_network import MLPClassifier\n",
    "#from sklearn.preprocessing import PolynomialFeatures\n",
    "from sklearn.model_selection import train_test_split\n",
    "from sklearn.metrics import accuracy_score\n",
    "from sklearn.metrics import confusion_matrix\n",
    "from sklearn import metrics\n",
    "\n",
    "from sklearn.feature_selection import SelectPercentile\n",
    "from sklearn.feature_selection import SelectFromModel\n"
   ]
  },
  {
   "cell_type": "code",
   "execution_count": 2,
   "metadata": {},
   "outputs": [],
   "source": [
    "data = pd.read_csv(\"C:\\\\Users\\Hannah\\Desktop\\Research Project\\data.csv\")\n",
    "data = data.drop([\"Unnamed: 32\", \"id\"],1)\n",
    "#includes all features from columns also floats and normalizes them\n",
    "X = data.values[:,2:-1].astype('float64')\n",
    "X = (X - np.mean(X, axis =0)) /  np.std(X, axis = 0)\n",
    "X = np.hstack([np.ones((X.shape[0], 1)),X]) #adds bias column and arrays data into vectors for quicker calculations\n",
    "X = MinMaxScaler().fit_transform(X)\n",
    "Y = data[\"diagnosis\"].map({'M':1,'B':0})\n",
    "Y = np.array(Y)"
   ]
  },
  {
   "cell_type": "code",
   "execution_count": 3,
   "metadata": {},
   "outputs": [],
   "source": [
    "X_train, X_test, Y_train, Y_test = train_test_split(X, Y, test_size=0.25, random_state=0)\n",
    "svm = SVC()\n",
    "rfc =RandomForestClassifier()\n",
    "knn = KNeighborsClassifier()\n",
    "nb = GaussianNB()\n",
    "ann = MLPClassifier()\n",
    "logreg = LogisticRegression()"
   ]
  },
  {
   "cell_type": "code",
   "execution_count": 17,
   "metadata": {},
   "outputs": [
    {
     "name": "stdout",
     "output_type": "stream",
     "text": [
      "Scikit-learn Feature Selection:\n",
      "X_train shape is: (426, 29)\n",
      "X_train feature selected shape is: (426, 13)\n",
      "[False False False  True False False  True  True False  True  True False\n",
      "  True False False False False False False False  True  True  True  True\n",
      " False  True  True  True False]\n",
      "[ 3  6  7  9 10 12 20 21 22 23 25 26 27]\n",
      "Scitkit-learn Features selected:\n",
      "texture_mean, smoothness_mean, compactness_mean, symmetry_mean, radius_se, symmetry_se\n",
      "fractal_dimension_se, radius_worst, texture_worst, area_worst, smoothness_worst, compactness_worst\n",
      "\n",
      "\n",
      "Accuracy with all features:\n",
      "The scikit-learn accuracy of SVM: 95.10 %\n",
      "The scikit-learn accuracy of RFC: 95.80 %\n",
      "The scikit-learn score of NB: 91.61 %\n",
      "The scikit-learn accuracy of KNN: 96.50 %\n",
      "The scikit-learn accuracy of ANN: 97.20 %\n",
      "The scikit-learn accuracy of LR: 95.10 %\n",
      "[[90  0]\n",
      " [ 4 49]]\n",
      "\n",
      "\n",
      "Accuracy with feature selection:\n",
      "The scikit-learn accuracy of SVM: 95.80 %\n",
      "The scikit-learn accuracy of RFC: 95.80 %\n",
      "The scikit-learn accuracy of NB: 92.31 %\n",
      "The scikit-learn accuracy of KNN: 96.50 %\n",
      "The scikit-learn accuracy of ANN: 95.10 %\n",
      "The scikit-learn accuracy of LR: 96.50 %\n"
     ]
    }
   ],
   "source": [
    "select = SelectFromModel(logreg, threshold=0.9)\n",
    "select.fit(X_train, Y_train)\n",
    "X_train_selected = select.transform(X_train)\n",
    "X_test_selected = select.transform(X_test)\n",
    "print('Scikit-learn Feature Selection:')\n",
    "print('X_train shape is: {}'.format(X_train.shape))\n",
    "print('X_train feature selected shape is: {}'.format(X_train_selected.shape))\n",
    "mask = select.get_support()\n",
    "print(mask)\n",
    "idxs_selected = select.get_support(indices=True)\n",
    "# Create new dataframe with only desired columns, or overwrite existing\n",
    "print(idxs_selected)\n",
    "print(\"Scitkit-learn Features selected:\")\n",
    "print('texture_mean, smoothness_mean, compactness_mean, symmetry_mean, radius_se, symmetry_se')\n",
    "print('fractal_dimension_se, radius_worst, texture_worst, area_worst, smoothness_worst, compactness_worst')\n",
    "print(\"\\n\")\n",
    "\n",
    "print('Accuracy with all features:')\n",
    "svm.fit(X_train, Y_train)\n",
    "print('The scikit-learn accuracy of SVM: {:.2f}'.format(svm.score(X_test, Y_test)*100),  '%')\n",
    "\n",
    "rfc.fit(X_train, Y_train)\n",
    "print('The scikit-learn accuracy of RFC: {:.2f}'.format(rfc.score(X_test, Y_test)*100),  '%')\n",
    "\n",
    "nb.fit(X_train, Y_train)\n",
    "print('The scikit-learn score of NB: {:.2f}'.format(nb.score(X_test, Y_test)*100),  '%')\n",
    "\n",
    "knn.fit(X_train, Y_train)\n",
    "print('The scikit-learn accuracy of KNN: {:.2f}'.format(knn.score(X_test, Y_test)*100),  '%')\n",
    "\n",
    "ann.fit(X_train, Y_train)\n",
    "print('The scikit-learn accuracy of MLP: {:.2f}'.format(ann.score(X_test, Y_test)*100),  '%')\n",
    "\n",
    "logreg.fit(X_train, Y_train)\n",
    "print('The scikit-learn accuracy of LR: {:.2f}'.format(logreg.score(X_test, Y_test)*100),  '%')\n",
    "\n",
    "\n",
    "print('\\n')\n",
    "print('Accuracy with feature selection:')\n",
    "\n",
    "select2 =SelectFromModel(svm, threshold=0.5)\n",
    "select2.fit(X_train, Y_train)\n",
    "X_train_selected2 = select.transform(X_train)\n",
    "X_test_selected2 = select.transform(X_test)\n",
    "svm.fit(X_train_selected2, Y_train)\n",
    "print('The scikit-learn accuracy of SVM: {:.2f}'.format(svm.score(X_test_selected2, Y_test)*100),  '%')\n",
    "\n",
    "select3 =SelectFromModel(rfc, threshold=0.9)\n",
    "select3.fit(X_train, Y_train)\n",
    "X_train_selected3 = select.transform(X_train)\n",
    "X_test_selected3 = select.transform(X_test)\n",
    "rfc.fit(X_train_selected3, Y_train)\n",
    "print('The scikit-learn accuracy of RFC: {:.2f}'.format(rfc.score(X_test_selected3, Y_test)*100),  '%')\n",
    "\n",
    "select4 =SelectFromModel(nb, threshold=0.9)\n",
    "select4.fit(X_train, Y_train)\n",
    "X_train_selected4 = select.transform(X_train)\n",
    "X_test_selected4 = select.transform(X_test)\n",
    "nb.fit(X_train_selected4, Y_train)\n",
    "print('The scikit-learn accuracy of NB: {:.2f}'.format(nb.score(X_test_selected4, Y_test)*100),  '%')\n",
    "\n",
    "select5 =SelectFromModel(knn, threshold=0.9)\n",
    "select5.fit(X_train, Y_train)\n",
    "X_train_selected5 = select.transform(X_train)\n",
    "X_test_selected5 = select.transform(X_test)\n",
    "knn.fit(X_train_selected5, Y_train)\n",
    "print('The scikit-learn accuracy of KNN: {:.2f}'.format(knn.score(X_test_selected5, Y_test)*100),  '%')\n",
    "\n",
    "select6 =SelectFromModel(ann, threshold=0.9)\n",
    "select6.fit(X_train, Y_train)\n",
    "X_train_selected6 = select.transform(X_train)\n",
    "X_test_selected6 = select.transform(X_test)\n",
    "ann.fit(X_train_selected6, Y_train)\n",
    "print('The scikit-learn accuracy of MLP: {:.2f}'.format(ann.score(X_test_selected6, Y_test)*100),  '%')\n",
    "\n",
    "select = SelectFromModel(logreg, threshold=0.9)\n",
    "select.fit(X_train, Y_train)\n",
    "X_train_selected = select.transform(X_train)\n",
    "X_test_selected = select.transform(X_test)\n",
    "logreg.fit(X_train_selected, Y_train)\n",
    "print('The scikit-learn accuracy of LR: {:.2f}'.format(logreg.score(X_test_selected, Y_test)*100),  '%')\n"
   ]
  },
  {
   "cell_type": "code",
   "execution_count": 24,
   "metadata": {},
   "outputs": [
    {
     "name": "stdout",
     "output_type": "stream",
     "text": [
      "Confusion Matrices all with feature selection except MLP:\n",
      "LR Confusion Matrix\n",
      "[[90  0]\n",
      " [ 5 48]]\n",
      "SVM Confusion Matrix\n",
      "[[90  0]\n",
      " [ 6 47]]\n",
      "RFC Confusion Matrix\n",
      "[[86  4]\n",
      " [ 2 51]]\n",
      "NB Confusion Matrix\n",
      "[[84  6]\n",
      " [ 5 48]]\n",
      "KNN Confusion Matrix\n",
      "[[87  3]\n",
      " [ 2 51]]\n",
      "MLP Confusion Matrix\n",
      "[[84  6]\n",
      " [ 2 51]]\n",
      "             precision    recall  f1-score   support\n",
      "\n",
      "     Benign       0.98      0.93      0.95        90\n",
      "  Malignant       0.89      0.96      0.93        53\n",
      "\n",
      "avg / total       0.95      0.94      0.94       143\n",
      "\n"
     ]
    }
   ],
   "source": [
    "print('Confusion Matrices all with feature selection except MLP:')\n",
    "print(\"LR Confusion Matrix\")\n",
    "predictions = logreg.predict(X_test_selected)\n",
    "print(confusion_matrix(Y_test, predictions))\n",
    "print(\"SVM Confusion Matrix\")\n",
    "predictions = svm.predict(X_test_selected2)\n",
    "print(confusion_matrix(Y_test, predictions))\n",
    "print(\"RFC Confusion Matrix\")\n",
    "predictions = rfc.predict(X_test_selected3)\n",
    "print(confusion_matrix(Y_test, predictions))\n",
    "print(\"NB Confusion Matrix\")\n",
    "predictions = nb.predict(X_test_selected4)\n",
    "print(confusion_matrix(Y_test, predictions))\n",
    "print(\"KNN Confusion Matrix\")\n",
    "predictions = knn.predict(X_test_selected5)\n",
    "print(confusion_matrix(Y_test, predictions))\n",
    "print(\"MLP Confusion Matrix\")\n",
    "predictions = ann.predict(X_test)\n",
    "print(confusion_matrix(Y_test, predictions))\n",
    "\n",
    "from sklearn.metrics import classification_report\n",
    "target_names = ['Benign', 'Malignant']\n",
    "print(classification_report(Y_test, predictions, target_names=target_names))"
   ]
  },
  {
   "cell_type": "code",
   "execution_count": 27,
   "metadata": {},
   "outputs": [
    {
     "name": "stdout",
     "output_type": "stream",
     "text": [
      "RFC Confusion Matrix\n",
      "Accuracy is:  0.972027972028\n"
     ]
    },
    {
     "data": {
      "image/png": "[encoded data removed]",
      "text/plain": [
       "<matplotlib.figure.Figure at 0x1956fe41ef0>"
      ]
     },
     "metadata": {},
     "output_type": "display_data"
    }
   ],
   "source": [
    "X_train, X_test, Y_train, Y_test = train_test_split(X, Y, test_size=0.25, random_state=0)\n",
    "\n",
    "#random forest classifier with n_estimators=10 (default)\n",
    "clf_rf = RandomForestClassifier(random_state=43)      \n",
    "clr_rf = clf_rf.fit(X_train,Y_train)\n",
    "\n",
    "print(\"RFC Confusion Matrix\")\n",
    "predictions = rfc.predict(X_test_selected3)\n",
    "cm = confusion_matrix(Y_test, predictions)\n",
    "sns.heatmap(cm,annot=True,fmt=\"d\")\n",
    "\n",
    "ac = accuracy_score(Y_test,clf_rf.predict(X_test))\n",
    "print('Accuracy is: ',ac)\n"
   ]
  },
  {
   "cell_type": "code",
   "execution_count": 28,
   "metadata": {},
   "outputs": [
    {
     "name": "stdout",
     "output_type": "stream",
     "text": [
      "LR Confusion Matrix\n",
      "Accuracy is:  0.951048951049\n"
     ]
    },
    {
     "data": {
      "image/png": "[encoded data removed]",
      "text/plain": [
       "<matplotlib.figure.Figure at 0x1956ffe40f0>"
      ]
     },
     "metadata": {},
     "output_type": "display_data"
    }
   ],
   "source": [
    "clf_rf = LogisticRegression(random_state=43)      \n",
    "clr_rf = clf_rf.fit(X_train,Y_train)\n",
    "\n",
    "print(\"LR Confusion Matrix\")\n",
    "predictions = logreg.predict(X_test_selected)\n",
    "cm = confusion_matrix(Y_test, predictions)\n",
    "sns.heatmap(cm,annot=True,fmt=\"d\")\n",
    "\n",
    "ac = accuracy_score(Y_test,clf_rf.predict(X_test))\n",
    "print('Accuracy is: ',ac)\n"
   ]
  },
  {
   "cell_type": "code",
   "execution_count": 29,
   "metadata": {},
   "outputs": [
    {
     "name": "stdout",
     "output_type": "stream",
     "text": [
      "KNN Confusion Matrix\n",
      "Accuracy is:  0.965034965035\n"
     ]
    },
    {
     "data": {
      "image/png": "[encoded data removed]",
      "text/plain": [
       "<matplotlib.figure.Figure at 0x1956ffe4278>"
      ]
     },
     "metadata": {},
     "output_type": "display_data"
    }
   ],
   "source": [
    "clf_rf = KNeighborsClassifier()      \n",
    "clr_rf = clf_rf.fit(X_train,Y_train)\n",
    "\n",
    "print(\"KNN Confusion Matrix\")\n",
    "predictions = knn.predict(X_test_selected5)\n",
    "cm = confusion_matrix(Y_test, predictions)\n",
    "sns.heatmap(cm,annot=True,fmt=\"d\")\n",
    "\n",
    "ac = accuracy_score(Y_test,clf_rf.predict(X_test))\n",
    "print('Accuracy is: ',ac)"
   ]
  },
  {
   "cell_type": "code",
   "execution_count": 30,
   "metadata": {},
   "outputs": [
    {
     "name": "stdout",
     "output_type": "stream",
     "text": [
      "NB Confusion Matrix\n",
      "Accuracy is:  0.916083916084\n"
     ]
    },
    {
     "data": {
      "image/png": "[encoded data removed]",
      "text/plain": [
       "<matplotlib.figure.Figure at 0x1956ffa59e8>"
      ]
     },
     "metadata": {},
     "output_type": "display_data"
    }
   ],
   "source": [
    "clf_rf = GaussianNB()      \n",
    "clr_rf = clf_rf.fit(X_train,Y_train)\n",
    "\n",
    "\n",
    "print(\"NB Confusion Matrix\")\n",
    "predictions = nb.predict(X_test_selected4)\n",
    "cm = confusion_matrix(Y_test, predictions)\n",
    "sns.heatmap(cm,annot=True,fmt=\"d\")\n",
    "\n",
    "ac = accuracy_score(Y_test,clf_rf.predict(X_test))\n",
    "print('Accuracy is: ',ac)\n"
   ]
  },
  {
   "cell_type": "code",
   "execution_count": 31,
   "metadata": {},
   "outputs": [
    {
     "name": "stdout",
     "output_type": "stream",
     "text": [
      "SVM Confusion Matrix\n",
      "Accuracy is:  0.951048951049\n"
     ]
    },
    {
     "data": {
      "image/png": "[encoded data removed]",
      "text/plain": [
       "<matplotlib.figure.Figure at 0x1956fdfc710>"
      ]
     },
     "metadata": {},
     "output_type": "display_data"
    }
   ],
   "source": [
    "clf_rf = SVC()      \n",
    "clr_rf = clf_rf.fit(X_train,Y_train)\n",
    "\n",
    "print(\"SVM Confusion Matrix\")\n",
    "predictions = svm.predict(X_test_selected2)\n",
    "cm = confusion_matrix(Y_test, predictions)\n",
    "sns.heatmap(cm,annot=True,fmt=\"d\")\n",
    "\n",
    "ac = accuracy_score(Y_test,clf_rf.predict(X_test))\n",
    "print('Accuracy is: ',ac)\n"
   ]
  },
  {
   "cell_type": "code",
   "execution_count": 21,
   "metadata": {},
   "outputs": [
    {
     "name": "stdout",
     "output_type": "stream",
     "text": [
      "Accuracy is:  0.972027972028\n"
     ]
    },
    {
     "data": {
      "image/png": "[encoded data removed]",
      "text/plain": [
       "<matplotlib.figure.Figure at 0x1956fcc6438>"
      ]
     },
     "metadata": {},
     "output_type": "display_data"
    }
   ],
   "source": [
    "clf_rf = MLPClassifier()      \n",
    "clr_rf = clf_rf.fit(X_train,Y_train)\n",
    "\n",
    "#all features\n",
    "ann.fit(X_train, Y_train)\n",
    "predictions = ann.predict(X_test)\n",
    "cm = confusion_matrix(Y_test, predictions)\n",
    "sns.heatmap(cm,annot=True,fmt=\"d\")\n",
    "\n",
    "ac = accuracy_score(Y_test,clf_rf.predict(X_test))\n",
    "print('Accuracy is: ',ac)\n",
    "cm = confusion_matrix(Y_test,clf_rf.predict(X_test))\n",
    "\n",
    "#sns.heatmap(cm,annot=True,fmt=\"d\")\n"
   ]
  },
  {
   "cell_type": "code",
   "execution_count": null,
   "metadata": {},
   "outputs": [],
   "source": []
  },
  {
   "cell_type": "code",
   "execution_count": null,
   "metadata": {},
   "outputs": [],
   "source": []
  },
  {
   "cell_type": "code",
   "execution_count": null,
   "metadata": {},
   "outputs": [],
   "source": []
  }
 ],
 "metadata": {
  "kernelspec": {
   "display_name": "Python 3",
   "language": "python",
   "name": "python3"
  },
  "language_info": {
   "codemirror_mode": {
    "name": "ipython",
    "version": 3
   },
   "file_extension": ".py",
   "mimetype": "text/x-python",
   "name": "python",
   "nbconvert_exporter": "python",
   "pygments_lexer": "ipython3",
   "version": "3.6.2"
  }
 },
 "nbformat": 4,
 "nbformat_minor": 2
}
