{
 "cells": [
  {
   "cell_type": "code",
   "execution_count": 7,
   "metadata": {},
   "outputs": [],
   "source": [
    "import numpy as np\n",
    "from numpy import sort\n",
    "import matplotlib.pyplot as plt\n",
    "%matplotlib inline\n",
    "import seaborn as sns\n",
    "import pandas as pd\n",
    "from sklearn.preprocessing import MinMaxScaler\n",
    "from sklearn.model_selection import train_test_split\n",
    "\n",
    "\n",
    "from sklearn.ensemble import RandomForestClassifier\n",
    "from sklearn.tree import DecisionTreeRegressor\n",
    "from sklearn.ensemble import RandomForestRegressor\n",
    "import numpy as np\n",
    "from sklearn import tree\n",
    "\n",
    "from sklearn.model_selection import cross_val_score\n",
    "from sklearn import metrics\n",
    "from sklearn.metrics import accuracy_score\n",
    "from sklearn.metrics import classification_report\n",
    "from sklearn.metrics import confusion_matrix"
   ]
  },
  {
   "cell_type": "code",
   "execution_count": 8,
   "metadata": {},
   "outputs": [],
   "source": [
    "data = pd.read_csv(\"C:\\\\Users\\Hannah\\Desktop\\Research Project\\data.csv\")\n",
    "data = data.drop([\"Unnamed: 32\", \"id\"],1)\n",
    "#includes all features from columns also floats and normalizes them\n",
    "\n",
    "X = data.values[:,1:-1].astype('float64')\n",
    "X = (X - np.mean(X, axis =0)) /  np.std(X, axis = 0)\n",
    "X = np.hstack([np.ones((X.shape[0], 1)),X]) #adds bias column and arrays data into vectors for quicker calculations\n",
    "X = MinMaxScaler().fit_transform(X)\n",
    "Y = data[\"diagnosis\"].map({'M':1,'B':0})\n",
    "Y = np.array(Y)"
   ]
  },
  {
   "cell_type": "code",
   "execution_count": 14,
   "metadata": {},
   "outputs": [
    {
     "data": {
      "text/plain": [
       "RandomForestClassifier(bootstrap=True, class_weight=None, criterion='gini',\n",
       "            max_depth=None, max_features='auto', max_leaf_nodes=None,\n",
       "            min_impurity_decrease=0.0, min_impurity_split=None,\n",
       "            min_samples_leaf=1, min_samples_split=2,\n",
       "            min_weight_fraction_leaf=0.0, n_estimators=10, n_jobs=1,\n",
       "            oob_score=False, random_state=None, verbose=0,\n",
       "            warm_start=False)"
      ]
     },
     "execution_count": 14,
     "metadata": {},
     "output_type": "execute_result"
    }
   ],
   "source": [
    "X_train, X_test, Y_train, Y_test = train_test_split(X, Y, test_size=0.25, random_state=0)\n",
    "\n",
    "rfc =RandomForestClassifier()\n",
    "rfc.fit(X_train, Y_train)"
   ]
  },
  {
   "cell_type": "code",
   "execution_count": 54,
   "metadata": {},
   "outputs": [
    {
     "data": {
      "text/plain": [
       "[('radius_mean', 0.0),\n",
       " ('texture_mean', 0.014218825834565477),\n",
       " ('perimeter_mean', 0.0071787951403496763),\n",
       " ('area_mean', 0.12891743388939739),\n",
       " ('smoothness_mean', 0.007110080791888157),\n",
       " ('compactness_mean', 0.0045247265287277905),\n",
       " ('concavity_mean', 0.0010289988853948422),\n",
       " ('concave points_mean', 0.04840465864544681),\n",
       " ('symmetry_mean', 0.096688574153447865),\n",
       " ('fractal_dimension_mean', 0.0034580276936461338),\n",
       " ('radius_se', 0.00060173683948538709),\n",
       " ('texture_se', 0.064704850385071483),\n",
       " ('perimeter_se', 0.0034639194900974975),\n",
       " ('area_se', 0.0093933406718194334),\n",
       " ('smoothness_se', 0.0094015146376591023),\n",
       " ('compactness_se', 0.0017579066665707487),\n",
       " ('concavity_se', 0.005133382441167217),\n",
       " ('concave points_se', 0.030453478608941809),\n",
       " ('symmetry_se', 0.032733170537378904),\n",
       " ('fractal_dimension_se', 0.0018211946210091403),\n",
       " ('radius_worst', 0.0024414737924601817),\n",
       " ('texture_worst', 0.008357063158563393),\n",
       " ('perimeter_worst', 0.013589366353562764),\n",
       " ('area_worst', 0.10836581528397753),\n",
       " ('smoothness_worst', 0.1206270981522591),\n",
       " ('compactness_worst', 0.01022014796308879),\n",
       " ('concavity_worst', 0.0050408208857549526),\n",
       " ('concave points_worst', 0.060583228430751104),\n",
       " ('symmetry_worst', 0.18484028173956324)]"
      ]
     },
     "execution_count": 54,
     "metadata": {},
     "output_type": "execute_result"
    }
   ],
   "source": [
    "list(zip(data[data.columns[1:30]], rfc.feature_importances_))"
   ]
  },
  {
   "cell_type": "code",
   "execution_count": 60,
   "metadata": {},
   "outputs": [
    {
     "name": "stdout",
     "output_type": "stream",
     "text": [
      "Feature ranking:\n",
      "1. feature 28 (0.184840)\n",
      "2. feature 3 (0.128917)\n",
      "3. feature 24 (0.120627)\n",
      "4. feature 23 (0.108366)\n",
      "5. feature 8 (0.096689)\n",
      "6. feature 11 (0.064705)\n",
      "7. feature 27 (0.060583)\n",
      "8. feature 7 (0.048405)\n",
      "9. feature 18 (0.032733)\n",
      "10. feature 17 (0.030453)\n",
      "11. feature 29 (0.014940)\n",
      "12. feature 1 (0.014219)\n",
      "13. feature 22 (0.013589)\n",
      "14. feature 25 (0.010220)\n",
      "15. feature 14 (0.009402)\n",
      "16. feature 13 (0.009393)\n",
      "17. feature 21 (0.008357)\n",
      "18. feature 2 (0.007179)\n",
      "19. feature 4 (0.007110)\n",
      "20. feature 16 (0.005133)\n",
      "21. feature 26 (0.005041)\n",
      "22. feature 5 (0.004525)\n",
      "23. feature 12 (0.003464)\n",
      "24. feature 9 (0.003458)\n",
      "25. feature 20 (0.002441)\n",
      "26. feature 19 (0.001821)\n",
      "27. feature 15 (0.001758)\n",
      "28. feature 6 (0.001029)\n",
      "29. feature 10 (0.000602)\n",
      "30. feature 0 (0.000000)\n"
     ]
    },
    {
     "data": {
      "image/png": "[encoded data removed]",
      "text/plain": [
       "<matplotlib.figure.Figure at 0x1261ad0a400>"
      ]
     },
     "metadata": {},
     "output_type": "display_data"
    }
   ],
   "source": [
    "import numpy as np\n",
    "import matplotlib.pyplot as plt\n",
    "\n",
    "from sklearn.datasets import make_classification\n",
    "\n",
    "importances = rfc.feature_importances_\n",
    "std = np.std([tree.feature_importances_ for tree in rfc.estimators_],\n",
    "             axis=0)\n",
    "indices = np.argsort(importances)[::-1]\n",
    "\n",
    "# Print the feature ranking\n",
    "print(\"Feature ranking:\")\n",
    "\n",
    "for f in range(X.shape[1]):\n",
    "    print(\"%d. feature %d (%f)\" % (f + 1, indices[f], importances[indices[f]]))\n",
    "\n",
    "plt.figure()\n",
    "plt.title(\"Feature importances\")\n",
    "plt.bar(range(X.shape[1]), importances[indices],\n",
    "       color=\"r\", yerr=std[indices], align=\"center\")\n",
    "plt.xticks(range(X.shape[1]), indices)\n",
    "plt.xlim([-1, X.shape[1]])\n",
    "plt.show()"
   ]
  },
  {
   "cell_type": "code",
   "execution_count": null,
   "metadata": {},
   "outputs": [],
   "source": []
  }
 ],
 "metadata": {
  "kernelspec": {
   "display_name": "Python 3",
   "language": "python",
   "name": "python3"
  },
  "language_info": {
   "codemirror_mode": {
    "name": "ipython",
    "version": 3
   },
   "file_extension": ".py",
   "mimetype": "text/x-python",
   "name": "python",
   "nbconvert_exporter": "python",
   "pygments_lexer": "ipython3",
   "version": "3.6.2"
  }
 },
 "nbformat": 4,
 "nbformat_minor": 2
}
