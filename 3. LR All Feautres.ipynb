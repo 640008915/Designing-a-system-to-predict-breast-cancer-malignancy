{
 "cells": [
  {
   "cell_type": "code",
   "execution_count": 11,
   "metadata": {},
   "outputs": [],
   "source": [
    "import numpy as np\n",
    "import seaborn as sns\n",
    "from numpy import sort\n",
    "import matplotlib.pyplot as plt\n",
    "%matplotlib inline\n",
    "import pandas as pd\n",
    "from sklearn.preprocessing import MinMaxScaler\n",
    "from sklearn.model_selection import train_test_split\n",
    "\n",
    "from pandas import DataFrame\n",
    "from sklearn import preprocessing\n",
    "from sklearn.feature_selection import SelectFromModel\n",
    "\n",
    "from sklearn.linear_model import LogisticRegression\n",
    "\n",
    "from sklearn.model_selection import train_test_split\n",
    "\n",
    "from sklearn.model_selection import cross_val_predict\n",
    "from sklearn.model_selection import cross_val_score\n",
    "from sklearn.model_selection import KFold\n",
    "from sklearn.metrics import accuracy_score\n",
    "from sklearn.metrics import confusion_matrix\n",
    "from sklearn import metrics\n",
    "from sklearn.metrics import classification_report"
   ]
  },
  {
   "cell_type": "code",
   "execution_count": 12,
   "metadata": {},
   "outputs": [],
   "source": [
    "data = pd.read_csv(\"C:\\\\Users\\Hannah\\Desktop\\Research Project\\data.csv\")\n",
    "data = data.drop([\"Unnamed: 32\", \"id\"],1)\n",
    "X = data.values[:,1:-1].astype('float64') #selects all feature columns, and assures they are float numbers\n",
    "X = (X - np.mean(X, axis =0)) /  np.std(X, axis = 0) #standardises the data\n",
    "X = np.hstack([np.ones((X.shape[0], 1)),X]) #adds bias column and arrays data into vectors for quicker calculations\n",
    "X = MinMaxScaler().fit_transform(X) #assures standardised data is all on the same scale\n",
    "Y = data[\"diagnosis\"].map({'M':1,'B':0}) #sets 'B' and 'M' in excel file to '0' and '1' for classification\n",
    "Y = np.array(Y)"
   ]
  },
  {
   "cell_type": "code",
   "execution_count": 13,
   "metadata": {},
   "outputs": [
    {
     "name": "stdout",
     "output_type": "stream",
     "text": [
      "(426, 30)\n"
     ]
    }
   ],
   "source": [
    "X_train, X_test, Y_train, Y_test = train_test_split(X, Y, test_size=0.25, random_state=0)\n",
    "print(X_train.shape)"
   ]
  },
  {
   "cell_type": "code",
   "execution_count": 14,
   "metadata": {},
   "outputs": [
    {
     "name": "stdout",
     "output_type": "stream",
     "text": [
      "Scikit-learn LR Accuracy All Features: 95.10 %\n",
      "Scikit-learn LR All Features Report:\n",
      "             precision    recall  f1-score   support\n",
      "\n",
      "     Benign       0.93      1.00      0.96        90\n",
      "  Malignant       1.00      0.87      0.93        53\n",
      "\n",
      "avg / total       0.95      0.95      0.95       143\n",
      "\n"
     ]
    }
   ],
   "source": [
    "logreg = LogisticRegression()\n",
    "logreg.fit(X_train, Y_train)\n",
    "\n",
    "select = SelectFromModel(logreg) \n",
    "#Scikit-learn feature selection method which weights features pre-algorithm\n",
    "#Selects highest weighted features cutting off at the mean \n",
    "select.fit(X_train, Y_train)\n",
    "X_train_selected = select.transform(X_train)\n",
    "X_test_selected = select.transform(X_test)\n",
    "\n",
    "print('Scikit-learn LR Accuracy All Features: {:.2f}'.format(logreg.score(X_test, Y_test)*100),  '%')\n",
    "\n",
    "print(\"Scikit-learn LR All Features Report:\")\n",
    "Y_pred = logreg.predict(X_test)\n",
    "target_names = ['Benign', 'Malignant']\n",
    "print(classification_report(Y_test, Y_pred, target_names=target_names))"
   ]
  },
  {
   "cell_type": "code",
   "execution_count": 15,
   "metadata": {},
   "outputs": [],
   "source": [
    "def Sigmoid(z):\n",
    "    return 1/(1 + np.exp(-z))\n",
    "\n",
    "def Hypothesis(theta, X):   \n",
    "    return Sigmoid(X @ theta) #@ symbol is a decorator to do matrix multiplication and part of python 3.5 only "
   ]
  },
  {
   "cell_type": "code",
   "execution_count": 16,
   "metadata": {},
   "outputs": [],
   "source": [
    "def Cost_Function(X,Y,theta,m):\n",
    "    hi = Hypothesis(theta, X)\n",
    "    _y = Y.reshape(-1, 1)\n",
    "    J = 1/float(m) * np.sum(-_y * np.log(hi) - (1-_y) * np.log(1-hi))\n",
    "    return J"
   ]
  },
  {
   "cell_type": "code",
   "execution_count": 17,
   "metadata": {},
   "outputs": [],
   "source": [
    "#L2Norm Regularization:\n",
    "def Cost_Function_Regularisation(X,Y,theta,m,alpha):\n",
    "    hi = Hypothesis(theta,X)\n",
    "    _y = Y.reshape(-1, 1)\n",
    "    J = alpha/float(m) * X.T @ (hi - _y)\n",
    "    return J\n",
    "\n",
    "def Gradient_Descent(X,Y,theta,m,alpha):\n",
    "    new_theta = theta - Cost_Function_Regularisation(X,Y,theta,m,alpha)\n",
    "    return new_theta"
   ]
  },
  {
   "cell_type": "code",
   "execution_count": 18,
   "metadata": {},
   "outputs": [
    {
     "name": "stdout",
     "output_type": "stream",
     "text": [
      "LR Accuracy all features:  97.2027972028 %\n",
      "Sckit-learn Accuracy score 97.202797 %\n",
      "Coefficients (thetas):\n",
      "(Largest coefficients to be collected in excel)\n",
      "[[ -7.39825014e-03]\n",
      " [ -2.57547922e+01]\n",
      " [  5.51155733e+00]\n",
      " [ -1.91164120e+01]\n",
      " [  1.29362778e+01]\n",
      " [ -1.05114500e+01]\n",
      " [  9.75227266e-01]\n",
      " [  1.99029120e+01]\n",
      " [  3.04935538e+01]\n",
      " [ -1.77241040e+00]\n",
      " [ -1.55759227e+01]\n",
      " [  2.03651155e+01]\n",
      " [ -6.41814748e+00]\n",
      " [  1.40094265e+01]\n",
      " [  2.38595018e+01]\n",
      " [ -9.88854722e+00]\n",
      " [ -1.14033748e+01]\n",
      " [ -9.27318024e+00]\n",
      " [ -4.38139618e+00]\n",
      " [ -8.43266250e+00]\n",
      " [ -5.03160952e+00]\n",
      " [ -1.40113160e+00]\n",
      " [  3.52961612e+00]\n",
      " [  9.72192833e-01]\n",
      " [  2.64169436e+01]\n",
      " [  5.25926948e+00]\n",
      " [  1.99698164e+00]\n",
      " [  2.94158143e+00]\n",
      " [  1.45847909e+00]\n",
      " [  9.90103186e+00]]\n",
      "\n",
      "\n",
      "Plot of LR Coefficients (thetas):\n"
     ]
    },
    {
     "data": {
      "image/png": "[encoded data removed]",
      "text/plain": [
       "<matplotlib.figure.Figure at 0x1fd77546e10>"
      ]
     },
     "metadata": {},
     "output_type": "display_data"
    }
   ],
   "source": [
    "def Accuracy(theta):\n",
    "    correct = 0\n",
    "    length = len(X_test)\n",
    "    prediction = (Hypothesis(theta, X_test) > 0.5) #replaced round to use predictions which are correct is ranging between the Y shape below\n",
    "    _y = Y_test.reshape(-1, 1)\n",
    "    correct = prediction == _y\n",
    "    my_accuracy = (np.sum(correct) / length)*100\n",
    "    #Using accuracy calculation made from scratch\n",
    "    print ('LR Accuracy all features: ', my_accuracy, \"%\")\n",
    "    #Assuring accuracy calculation is correct with validation from Scikit-learn accuracy function\n",
    "    print(\"Sckit-learn Accuracy score %f\" % (accuracy_score(Y_test, prediction)*100),\"%\")\n",
    "\n",
    "\n",
    "def Logistic_Regression(X,Y,alpha,theta,num_iters):\n",
    "    m = len(Y)\n",
    "    for x in range(num_iters):\n",
    "        new_theta = Gradient_Descent(X,Y,theta,m,alpha)\n",
    "        theta = new_theta\n",
    "        if x % 100 == 0:\n",
    "            print #('theta: ', theta)    \n",
    "            print #('cost: ', Cost_Function(X,Y,theta,m))\n",
    "    Accuracy(theta)\n",
    "    print(\"Coefficients (thetas):\")\n",
    "    print(\"(Largest coefficients to be collected in excel)\")\n",
    "    theta.sort()\n",
    "    print(theta)\n",
    "    x = np.linspace(-10, 30, 50)\n",
    "    y = -(theta[0] + theta[1]*x)/theta[2]\n",
    "    print(\"\\n\")\n",
    "    print(\"Plot of LR Coefficients (thetas):\")\n",
    "    plt.plot(X, Y)\n",
    "    plt.plot(theta)\n",
    "    plt.show()\n",
    "\n",
    "\n",
    "\n",
    "ep = .012   #sets initial theta to random non zero numbers +/- .012 specifically is arbitrary\n",
    "\n",
    "initial_theta = np.random.rand(X_train.shape[1],1) * 2 * ep - ep\n",
    "alpha = 0.9\n",
    "iterations = 100000\n",
    "Logistic_Regression(X_train,Y_train,alpha,initial_theta,iterations)"
   ]
  },
  {
   "cell_type": "code",
   "execution_count": 19,
   "metadata": {},
   "outputs": [
    {
     "name": "stdout",
     "output_type": "stream",
     "text": [
      "Confusion Matrix: \n",
      " [[88  2]\n",
      " [ 2 51]]\n",
      "\n",
      "\n",
      "LR Report:\n",
      "             precision    recall  f1-score   support\n",
      "\n",
      "     Benign       0.98      0.98      0.98        90\n",
      "  Malignant       0.96      0.96      0.96        53\n",
      "\n",
      "avg / total       0.97      0.97      0.97       143\n",
      "\n",
      "Sckit-learn Accuracy score 97.202797 %\n"
     ]
    },
    {
     "data": {
      "image/png": "[encoded data removed]",
      "text/plain": [
       "<matplotlib.figure.Figure at 0x1fd776a4f60>"
      ]
     },
     "metadata": {},
     "output_type": "display_data"
    }
   ],
   "source": [
    "def Accuracy(theta):\n",
    "    correct = 0\n",
    "    length = len(X_test)\n",
    "    prediction = (Hypothesis(theta, X_test) > 0.5) #replaced round to use predictions which are correct is ranging between the Y shape below\n",
    "    _y = Y_test.reshape(-1, 1)\n",
    "    correct = prediction == _y\n",
    "    my_accuracy = (np.sum(correct) / length)*100\n",
    "    \n",
    "    #Confusion matrix and F1 scoring\n",
    "    cm= confusion_matrix(Y_test, prediction)\n",
    "    print(\"Confusion Matrix:\", \"\\n\", cm)\n",
    "    sns.heatmap(cm,annot=True,fmt=\"d\")\n",
    "    print('\\n')\n",
    "    print(\"LR Report:\")\n",
    "    target_names = ['Benign', 'Malignant']\n",
    "    print(classification_report(Y_test, prediction, target_names=target_names))\n",
    "    print(\"Sckit-learn Accuracy score %f\" % (accuracy_score(Y_test, prediction)*100),\"%\")\n",
    "\n",
    "\n",
    "def Logistic_Regression(X,Y,alpha,theta,num_iters):\n",
    "    m = len(Y)\n",
    "    for x in range(num_iters):\n",
    "        new_theta = Gradient_Descent(X,Y,theta,m,alpha)\n",
    "        theta = new_theta\n",
    "        if x % 100 == 0:\n",
    "            print #('theta: ', theta)    \n",
    "            print #('cost: ', Cost_Function(X,Y,theta,m))\n",
    "    Accuracy(theta)\n",
    "\n",
    "\n",
    "ep = .012   #sets initial theta to random non zero numbers +/- .012 specifically is arbitrary\n",
    "\n",
    "initial_theta = np.random.rand(X_train.shape[1],1) * 2 * ep - ep\n",
    "alpha = 0.9\n",
    "iterations = 100000\n",
    "Logistic_Regression(X_train,Y_train,alpha,initial_theta,iterations)\n"
   ]
  },
  {
   "cell_type": "code",
   "execution_count": null,
   "metadata": {},
   "outputs": [],
   "source": []
  }
 ],
 "metadata": {
  "kernelspec": {
   "display_name": "Python 3",
   "language": "python",
   "name": "python3"
  },
  "language_info": {
   "codemirror_mode": {
    "name": "ipython",
    "version": 3
   },
   "file_extension": ".py",
   "mimetype": "text/x-python",
   "name": "python",
   "nbconvert_exporter": "python",
   "pygments_lexer": "ipython3",
   "version": "3.6.2"
  }
 },
 "nbformat": 4,
 "nbformat_minor": 2
}
